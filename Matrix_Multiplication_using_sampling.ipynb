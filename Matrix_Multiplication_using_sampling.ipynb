{
 "cells": [
  {
   "cell_type": "markdown",
   "metadata": {},
   "source": [
    "# Creating a DTM"
   ]
  },
  {
   "cell_type": "markdown",
   "metadata": {},
   "source": [
    "First importing all the standard python libraries."
   ]
  },
  {
   "cell_type": "code",
   "execution_count": 1,
   "metadata": {},
   "outputs": [
    {
     "name": "stderr",
     "output_type": "stream",
     "text": [
      "Using TensorFlow backend.\n"
     ]
    }
   ],
   "source": [
    "import textmining\n",
    "import shorttext\n",
    "import pandas as pd\n",
    "import numpy as np\n",
    "import numpy.random as random\n",
    "import matplotlib.pyplot as plt"
   ]
  },
  {
   "cell_type": "markdown",
   "metadata": {},
   "source": [
    "Using the US Presidents speeches dataset to create a Document term matrix."
   ]
  },
  {
   "cell_type": "code",
   "execution_count": 2,
   "metadata": {
    "scrolled": false
   },
   "outputs": [],
   "source": [
    "usprez = shorttext.data.inaugural()\n",
    "docids=sorted(usprez.keys())\n",
    "docsall=[]\n",
    "for key in docids:\n",
    "    s=''.join(usprez[key])\n",
    "    docsall.append(s)"
   ]
  },
  {
   "cell_type": "markdown",
   "metadata": {},
   "source": [
    "Next using the 'TermDocumentMatrix()' of the 'text mining' library to create the DTM."
   ]
  },
  {
   "cell_type": "code",
   "execution_count": 3,
   "metadata": {},
   "outputs": [],
   "source": [
    "tdm = textmining.TermDocumentMatrix()\n",
    "for d in docsall:\n",
    "    tdm.add_doc(d)\n",
    "#tdm.write_csv('matrix.csv', cutoff=1)\n",
    "c=0\n",
    "ans=[]\n",
    "for row in tdm.rows(cutoff=1):\n",
    "    if(c==0):\n",
    "        c=1\n",
    "        continue\n",
    "    ans.append(row)"
   ]
  },
  {
   "cell_type": "markdown",
   "metadata": {},
   "source": [
    "Using numpy functions to find the dimensions and different features of the matrix."
   ]
  },
  {
   "cell_type": "code",
   "execution_count": 4,
   "metadata": {},
   "outputs": [
    {
     "name": "stdout",
     "output_type": "stream",
     "text": [
      "(56, 8971)\n"
     ]
    }
   ],
   "source": [
    "a=np.array(ans)\n",
    "print(a.shape)"
   ]
  },
  {
   "cell_type": "code",
   "execution_count": 5,
   "metadata": {},
   "outputs": [],
   "source": [
    "#finding the transpose of the DTM, will be used later in the multiplication part\n",
    "b=a.transpose()"
   ]
  },
  {
   "cell_type": "markdown",
   "metadata": {},
   "source": [
    "Now we are multiplying the DTM matrix and its tranpose and calculating the time taken by the operation."
   ]
  },
  {
   "cell_type": "code",
   "execution_count": 6,
   "metadata": {},
   "outputs": [
    {
     "name": "stdout",
     "output_type": "stream",
     "text": [
      "7.541239261627197\n"
     ]
    }
   ],
   "source": [
    "#importing time library for calculating time\n",
    "import time\n",
    "time_starting=time.time()\n",
    "d=np.matmul(b,a)\n",
    "time_after=time.time()\n",
    "print(time_after-time_starting)"
   ]
  },
  {
   "cell_type": "markdown",
   "metadata": {},
   "source": [
    "# Matrix Multiplication using sampling"
   ]
  },
  {
   "cell_type": "markdown",
   "metadata": {},
   "source": [
    "First calculating the square of the Frobenius norm of DTM."
   ]
  },
  {
   "cell_type": "code",
   "execution_count": 7,
   "metadata": {},
   "outputs": [
    {
     "data": {
      "text/plain": [
       "6665205"
      ]
     },
     "execution_count": 7,
     "metadata": {},
     "output_type": "execute_result"
    }
   ],
   "source": [
    "frobenius_norm_square=np.sum(a**2)\n",
    "frobenius_norm_square"
   ]
  },
  {
   "cell_type": "markdown",
   "metadata": {},
   "source": [
    "Finding the probability using length square sampling."
   ]
  },
  {
   "cell_type": "code",
   "execution_count": 8,
   "metadata": {
    "scrolled": true
   },
   "outputs": [],
   "source": [
    "probability_list=[]\n",
    "sum=0;\n",
    "for i in range(np.size(b,1)):\n",
    "    q=np.array(b[:,i])\n",
    "    probability_list.append((np.sum(q**2))/(1.0*frobenius_norm_square))"
   ]
  },
  {
   "cell_type": "markdown",
   "metadata": {},
   "source": [
    "Considering only 1 independant trial."
   ]
  },
  {
   "cell_type": "code",
   "execution_count": 9,
   "metadata": {},
   "outputs": [
    {
     "name": "stdout",
     "output_type": "stream",
     "text": [
      "[14]\n"
     ]
    }
   ],
   "source": [
    "s=1\n",
    "rows=np.size(b,1)\n",
    "#index variable gives us a random number(k) which is the column number of b and corresponding row of a.\n",
    "index=random.choice(rows,s,probability_list)\n",
    "print(index)"
   ]
  },
  {
   "cell_type": "markdown",
   "metadata": {},
   "source": [
    "Multiplication of the kth column of b and kth row of a"
   ]
  },
  {
   "cell_type": "code",
   "execution_count": 11,
   "metadata": {},
   "outputs": [
    {
     "name": "stdout",
     "output_type": "stream",
     "text": [
      "(8971, 8971)\n",
      "Time Taken: 2.1187150478363037\n"
     ]
    }
   ],
   "source": [
    "#Using the time library for finding the time taken to calculate this approx matrix\n",
    "p=np.array(probability_list)\n",
    "t=p[index]\n",
    "const=1.0/t[0]\n",
    "b_kth_column=np.matrix(b[:,index])*const\n",
    "a_kth_row=np.matrix(a[index])\n",
    "time_start=time.time()\n",
    "X=np.dot(b_kth_column[:,None],a_kth_row[None,:])\n",
    "time_end=time.time()\n",
    "print(X.shape)\n",
    "print(\"Time Taken: \" +str(time_end-time_start))"
   ]
  },
  {
   "cell_type": "markdown",
   "metadata": {},
   "source": [
    "Considering Multiple trials."
   ]
  },
  {
   "cell_type": "code",
   "execution_count": 12,
   "metadata": {},
   "outputs": [],
   "source": [
    "#suppose s=50\n",
    "s=50\n",
    "rows=np.size(b,1)\n",
    "all_index=random.choice(rows,s,probability_list)"
   ]
  },
  {
   "cell_type": "code",
   "execution_count": 13,
   "metadata": {},
   "outputs": [],
   "source": [
    "#Creating a zero matrix\n",
    "X=np.zeros((np.size(b,0),np.size(b,0)))"
   ]
  },
  {
   "cell_type": "code",
   "execution_count": 15,
   "metadata": {},
   "outputs": [
    {
     "name": "stdout",
     "output_type": "stream",
     "text": [
      "(8971, 8971)\n"
     ]
    }
   ],
   "source": [
    "#though the multiple trials method takes a lot more time than the single trials method but it is more accurate\n",
    "for i in range(0,s):\n",
    "    t=p[all_index[i]]\n",
    "    a1=np.array(b[:,all_index[i]])*(1.0/t)\n",
    "    b1=np.array(a[all_index[i]])\n",
    "    y=np.dot(a1[:,None],b1[None,:])\n",
    "    X=np.add(X,y)\n",
    "X=X*(1.0/s)\n",
    "print(X.shape)"
   ]
  },
  {
   "cell_type": "code",
   "execution_count": null,
   "metadata": {},
   "outputs": [],
   "source": []
  }
 ],
 "metadata": {
  "kernelspec": {
   "display_name": "Python 3",
   "language": "python",
   "name": "python3"
  },
  "language_info": {
   "codemirror_mode": {
    "name": "ipython",
    "version": 3
   },
   "file_extension": ".py",
   "mimetype": "text/x-python",
   "name": "python",
   "nbconvert_exporter": "python",
   "pygments_lexer": "ipython3",
   "version": "3.7.3"
  }
 },
 "nbformat": 4,
 "nbformat_minor": 2
}
