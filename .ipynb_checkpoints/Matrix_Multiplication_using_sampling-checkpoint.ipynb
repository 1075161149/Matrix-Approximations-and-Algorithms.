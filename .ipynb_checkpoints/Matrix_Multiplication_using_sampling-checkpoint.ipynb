{
 "cells": [
  {
   "cell_type": "markdown",
   "metadata": {},
   "source": [
    "# Creating a DTM"
   ]
  },
  {
   "cell_type": "markdown",
   "metadata": {},
   "source": [
    "First importing all the standard python libraries."
   ]
  },
  {
   "cell_type": "code",
   "execution_count": 26,
   "metadata": {},
   "outputs": [],
   "source": [
    "import textmining\n",
    "import shorttext\n",
    "import pandas as pd\n",
    "import numpy as np\n",
    "import numpy.random as random\n",
    "import matplotlib.pyplot as plt"
   ]
  },
  {
   "cell_type": "markdown",
   "metadata": {},
   "source": [
    "Using the US Presidents speeches dataset to create a Document term matrix."
   ]
  },
  {
   "cell_type": "code",
   "execution_count": 27,
   "metadata": {
    "scrolled": false
   },
   "outputs": [],
   "source": [
    "usprez = shorttext.data.inaugural()\n",
    "docids=sorted(usprez.keys())\n",
    "docsall=[]\n",
    "for key in docids:\n",
    "    s=''.join(usprez[key])\n",
    "    docsall.append(s)"
   ]
  },
  {
   "cell_type": "markdown",
   "metadata": {},
   "source": [
    "Next using the 'TermDocumentMatrix()' of the 'text mining' library to create the DTM."
   ]
  },
  {
   "cell_type": "code",
   "execution_count": 28,
   "metadata": {},
   "outputs": [],
   "source": [
    "tdm = textmining.TermDocumentMatrix()\n",
    "for d in docsall:\n",
    "    tdm.add_doc(d)\n",
    "#tdm.write_csv('matrix.csv', cutoff=1)\n",
    "c=0\n",
    "ans=[]\n",
    "for row in tdm.rows(cutoff=1):\n",
    "    if(c==0):\n",
    "        c=1\n",
    "        continue\n",
    "    ans.append(row)"
   ]
  },
  {
   "cell_type": "markdown",
   "metadata": {},
   "source": [
    "Using numpy functions to find the dimensions and different features of the matrix."
   ]
  },
  {
   "cell_type": "code",
   "execution_count": 29,
   "metadata": {},
   "outputs": [
    {
     "name": "stdout",
     "output_type": "stream",
     "text": [
      "(56, 8971)\n"
     ]
    }
   ],
   "source": [
    "a=np.array(ans)\n",
    "print(a.shape)"
   ]
  },
  {
   "cell_type": "code",
   "execution_count": 30,
   "metadata": {},
   "outputs": [],
   "source": [
    "#finding the transpose of the DTM, will be used later in the multiplication part\n",
    "b=a.transpose()"
   ]
  },
  {
   "cell_type": "markdown",
   "metadata": {},
   "source": [
    "Now we are multiplying the DTM matrix and its tranpose and calculating the time taken by the operation."
   ]
  },
  {
   "cell_type": "code",
   "execution_count": 31,
   "metadata": {},
   "outputs": [
    {
     "name": "stdout",
     "output_type": "stream",
     "text": [
      "7.534410715103149\n"
     ]
    }
   ],
   "source": [
    "#importing time library for calculating time\n",
    "import time\n",
    "time_starting=time.time()\n",
    "d=np.matmul(b,a)\n",
    "time_after=time.time()\n",
    "print(time_after-time_starting)"
   ]
  },
  {
   "cell_type": "markdown",
   "metadata": {},
   "source": [
    "# Matrix Multiplication using sampling"
   ]
  },
  {
   "cell_type": "markdown",
   "metadata": {},
   "source": [
    "First calculating the square of the Frobenius norm of DTM."
   ]
  },
  {
   "cell_type": "code",
   "execution_count": 34,
   "metadata": {},
   "outputs": [
    {
     "data": {
      "text/plain": [
       "6665205"
      ]
     },
     "execution_count": 34,
     "metadata": {},
     "output_type": "execute_result"
    }
   ],
   "source": [
    "frobenius_norm_square=np.sum(a**2)\n",
    "frobenius_norm_square"
   ]
  },
  {
   "cell_type": "markdown",
   "metadata": {},
   "source": [
    "Finding the probability using length square sampling."
   ]
  },
  {
   "cell_type": "code",
   "execution_count": 32,
   "metadata": {
    "scrolled": true
   },
   "outputs": [],
   "source": [
    "probability_list=[]\n",
    "sum=0;\n",
    "for i in range(np.size(b,1)):\n",
    "    q=np.array(b[:,i])\n",
    "    probability_list.append((np.sum(q**2))/(1.0*frobenius_norm_square))"
   ]
  },
  {
   "cell_type": "markdown",
   "metadata": {},
   "source": [
    "Considering only 1 independant trial."
   ]
  },
  {
   "cell_type": "code",
   "execution_count": 33,
   "metadata": {},
   "outputs": [
    {
     "name": "stdout",
     "output_type": "stream",
     "text": [
      "[38]\n"
     ]
    }
   ],
   "source": [
    "s=1\n",
    "rows=np.size(b,1)\n",
    "#index variable gives us a random number(k) which is the column number of b and corresponding row of a.\n",
    "index=random.choice(rows,s,probability_list)\n",
    "print(index)"
   ]
  },
  {
   "cell_type": "markdown",
   "metadata": {},
   "source": [
    "Multiplication of the kth column of b and kth row of a"
   ]
  },
  {
   "cell_type": "code",
   "execution_count": 38,
   "metadata": {},
   "outputs": [
    {
     "name": "stdout",
     "output_type": "stream",
     "text": [
      "(8971, 8971)\n",
      "Time Taken: 2.1236660480499268\n"
     ]
    }
   ],
   "source": [
    "#Using the time library for finding the time taken to calculate this approx matrix\n",
    "p=np.array(probability_list)\n",
    "t=p[index]\n",
    "const=1.0/t[0]\n",
    "b_kth_column=np.matrix(b[:,index]*const)\n",
    "a_kth_row=np.matrix(a[index])\n",
    "time_start=time.time()\n",
    "X=np.dot(b_kth_column[:,None],a_kth_row[None,:])\n",
    "time_end=time.time()\n",
    "print(X.shape)\n",
    "print(\"Time Taken: \" +str(time_end-time_start))"
   ]
  },
  {
   "cell_type": "markdown",
   "metadata": {},
   "source": [
    "Find Frobenius Error for the single trial method."
   ]
  },
  {
   "cell_type": "code",
   "execution_count": 49,
   "metadata": {},
   "outputs": [
    {
     "name": "stdout",
     "output_type": "stream",
     "text": [
      "40208681458647.55\n"
     ]
    }
   ],
   "source": [
    "X=np.subtract(d,X)\n",
    "frobenius_error1=np.sum(X**2)\n",
    "print(frobenius_error1)"
   ]
  },
  {
   "cell_type": "markdown",
   "metadata": {},
   "source": [
    "Considering Multiple trials."
   ]
  },
  {
   "cell_type": "code",
   "execution_count": 41,
   "metadata": {},
   "outputs": [],
   "source": [
    "#suppose s=50\n",
    "s=25\n",
    "rows=np.size(b,1)\n",
    "all_index=random.choice(rows,s,probability_list)"
   ]
  },
  {
   "cell_type": "code",
   "execution_count": 42,
   "metadata": {},
   "outputs": [],
   "source": [
    "#Creating a zero matrix\n",
    "X=np.zeros((np.size(b,0),np.size(b,0)))"
   ]
  },
  {
   "cell_type": "code",
   "execution_count": 45,
   "metadata": {},
   "outputs": [
    {
     "name": "stdout",
     "output_type": "stream",
     "text": [
      "(8971, 8971)\n"
     ]
    }
   ],
   "source": [
    "#though the multiple trials method takes a lot more time than the single trials method but it is more accurate\n",
    "for i in range(0,s):\n",
    "    t=p[all_index[i]]\n",
    "    const=1.0/t\n",
    "    a1=np.array(b[:,all_index[i]]*const)\n",
    "    b1=np.array(a[all_index[i]])\n",
    "    y=np.dot(a1[:,None],b1[None,:])\n",
    "    X=np.add(X,y)\n",
    "X=X*(1.0/s)\n",
    "print(X.shape)"
   ]
  },
  {
   "cell_type": "markdown",
   "metadata": {},
   "source": [
    "Finding Frobenius Error of Matrices for the multiple trial method."
   ]
  },
  {
   "cell_type": "code",
   "execution_count": 50,
   "metadata": {},
   "outputs": [
    {
     "name": "stdout",
     "output_type": "stream",
     "text": [
      "1183265925924.526\n"
     ]
    }
   ],
   "source": [
    "X=np.subtract(d,X)\n",
    "frobenius_error2=np.sum(X**2)\n",
    "print(frobenius_error2)"
   ]
  },
  {
   "cell_type": "markdown",
   "metadata": {},
   "source": [
    "Finding errors for multiple values of s and plotting a graph"
   ]
  },
  {
   "cell_type": "code",
   "execution_count": 55,
   "metadata": {},
   "outputs": [],
   "source": [
    "xaxis=[]\n",
    "yaxis=[]\n",
    "s=25\n",
    "for i in range(1,s+1):\n",
    "    xaxis.append(i)\n",
    "for i in range(1,s+1):\n",
    "    X=np.zeros((np.size(b,0),np.size(b,0)))\n",
    "    for j in range(i):\n",
    "        t=p[all_index[j]]\n",
    "        const=1.0/t\n",
    "        a1=np.array(b[:,all_index[j]]*const)\n",
    "        b1=np.array(a[all_index[j]])\n",
    "        y=np.dot(a1[:,None],b1[None,:])\n",
    "        X=np.add(X,y)\n",
    "    X=X*(1.0/i)\n",
    "    X=np.subtract(d,X)\n",
    "    frobenius_error=np.sum(X**2)\n",
    "    yaxis.append(frobenius_error)\n"
   ]
  },
  {
   "cell_type": "code",
   "execution_count": 68,
   "metadata": {},
   "outputs": [
    {
     "data": {
      "image/png": "[encoded data removed]",
      "text/plain": [
       "<Figure size 432x288 with 1 Axes>"
      ]
     },
     "metadata": {
      "needs_background": "light"
     },
     "output_type": "display_data"
    }
   ],
   "source": [
    "import matplotlib.pyplot as plt\n",
    "plt.plot(xaxis,yaxis,'ro')\n",
    "plt.ylabel('Frobenius_Error')\n",
    "plt.xlabel('s values')\n",
    "plt.show()\n",
    "#As we can see as the value of s increases the frobenius error decreases"
   ]
  },
  {
   "cell_type": "code",
   "execution_count": null,
   "metadata": {},
   "outputs": [],
   "source": []
  }
 ],
 "metadata": {
  "kernelspec": {
   "display_name": "Python 3",
   "language": "python",
   "name": "python3"
  },
  "language_info": {
   "codemirror_mode": {
    "name": "ipython",
    "version": 3
   },
   "file_extension": ".py",
   "mimetype": "text/x-python",
   "name": "python",
   "nbconvert_exporter": "python",
   "pygments_lexer": "ipython3",
   "version": "3.7.3"
  }
 },
 "nbformat": 4,
 "nbformat_minor": 2
}
