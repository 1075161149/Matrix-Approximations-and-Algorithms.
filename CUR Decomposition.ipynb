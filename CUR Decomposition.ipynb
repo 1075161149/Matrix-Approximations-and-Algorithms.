{
 "cells": [
  {
   "cell_type": "markdown",
   "metadata": {},
   "source": [
    "Firstly we create a DTM as we created in our previous document"
   ]
  },
  {
   "cell_type": "code",
   "execution_count": 20,
   "metadata": {},
   "outputs": [],
   "source": [
    "#importing all the required libraries\n",
    "import textmining\n",
    "import shorttext\n",
    "import pandas as pd\n",
    "import numpy as np\n",
    "import numpy.random as random\n",
    "import matplotlib.pyplot as plt\n",
    "import math"
   ]
  },
  {
   "cell_type": "markdown",
   "metadata": {},
   "source": [
    "Using the US Presidents speeches dataset to create a Document term matrix."
   ]
  },
  {
   "cell_type": "code",
   "execution_count": 2,
   "metadata": {},
   "outputs": [],
   "source": [
    "usprez = shorttext.data.inaugural()\n",
    "docids=sorted(usprez.keys())\n",
    "docsall=[]\n",
    "for key in docids:\n",
    "    s=''.join(usprez[key])\n",
    "    docsall.append(s)"
   ]
  },
  {
   "cell_type": "markdown",
   "metadata": {},
   "source": [
    "Next using the 'TermDocumentMatrix()' of the 'text mining' library to create the DTM."
   ]
  },
  {
   "cell_type": "code",
   "execution_count": 4,
   "metadata": {},
   "outputs": [],
   "source": [
    "tdm = textmining.TermDocumentMatrix()\n",
    "for d in docsall:\n",
    "    tdm.add_doc(d)\n",
    "#tdm.write_csv('matrix.csv', cutoff=1)\n",
    "c=0\n",
    "ans=[]\n",
    "for row in tdm.rows(cutoff=1):\n",
    "    if(c==0):\n",
    "        c=1\n",
    "        continue\n",
    "    ans.append(row)"
   ]
  },
  {
   "cell_type": "markdown",
   "metadata": {},
   "source": [
    "Using numpy functions to find the dimensions and different features of the matrix."
   ]
  },
  {
   "cell_type": "code",
   "execution_count": 5,
   "metadata": {},
   "outputs": [
    {
     "name": "stdout",
     "output_type": "stream",
     "text": [
      "(56, 8971)\n"
     ]
    }
   ],
   "source": [
    "a=np.array(ans)\n",
    "print(a.shape)"
   ]
  },
  {
   "cell_type": "markdown",
   "metadata": {},
   "source": [
    "# CUR Decomposition"
   ]
  },
  {
   "cell_type": "markdown",
   "metadata": {},
   "source": [
    "First calculating the square of the Frobenius norm of DTM."
   ]
  },
  {
   "cell_type": "code",
   "execution_count": 6,
   "metadata": {},
   "outputs": [
    {
     "data": {
      "text/plain": [
       "6665205"
      ]
     },
     "execution_count": 6,
     "metadata": {},
     "output_type": "execute_result"
    }
   ],
   "source": [
    "frobenius_norm_square=np.sum(a**2)\n",
    "frobenius_norm_square"
   ]
  },
  {
   "cell_type": "markdown",
   "metadata": {},
   "source": [
    "Finding the probability using length square sampling."
   ]
  },
  {
   "cell_type": "code",
   "execution_count": 9,
   "metadata": {},
   "outputs": [],
   "source": [
    "#probability list for finding C\n",
    "probability_list_columns=[]\n",
    "sum=0;\n",
    "for i in range(np.size(a,1)):\n",
    "    q=np.array(a[:,i])\n",
    "    probability_list_columns.append((np.sum(q**2))/(1.0*frobenius_norm_square))"
   ]
  },
  {
   "cell_type": "code",
   "execution_count": 8,
   "metadata": {},
   "outputs": [],
   "source": [
    "#probability list for finding R\n",
    "probability_list_rows=[]\n",
    "sum=0;\n",
    "for i in range(np.size(a,0)):\n",
    "    q=np.array(a[i,:])\n",
    "    probability_list_rows.append((np.sum(q**2))/(1.0*frobenius_norm_square))"
   ]
  },
  {
   "cell_type": "markdown",
   "metadata": {},
   "source": [
    "Find the Matrix C."
   ]
  },
  {
   "cell_type": "code",
   "execution_count": 62,
   "metadata": {},
   "outputs": [],
   "source": [
    "#let s=100\n",
    "s=100\n",
    "columns=np.size(a,1)\n",
    "all_index=random.choice(columns,s,probability_list_columns)"
   ]
  },
  {
   "cell_type": "code",
   "execution_count": 63,
   "metadata": {},
   "outputs": [],
   "source": [
    "t=all_index[0]\n",
    "C=np.zeros((56,s))\n",
    "C[:,0]=a[:,t]\n",
    "const=1.0/(math.sqrt(s*probability_list_columns[t]))\n",
    "C=np.array(C*const)\n",
    "for i in range(1,s):\n",
    "    t=all_index[i]\n",
    "    new=a[:,t]\n",
    "    const=1.0/(math.sqrt(s*probability_list_columns[t]))\n",
    "    new=np.array(new*const)\n",
    "    C[:,i]=new"
   ]
  },
  {
   "cell_type": "markdown",
   "metadata": {},
   "source": [
    "Finding the Matrix R."
   ]
  },
  {
   "cell_type": "code",
   "execution_count": 64,
   "metadata": {},
   "outputs": [],
   "source": [
    "#let r=30\n",
    "r=30\n",
    "rows=np.size(a,0)\n",
    "all_index2=random.choice(rows,r,probability_list_rows)"
   ]
  },
  {
   "cell_type": "code",
   "execution_count": 65,
   "metadata": {},
   "outputs": [],
   "source": [
    "R=np.zeros((r,8971))\n",
    "R2=np.zeros((r,8971))\n",
    "for i in range(r):\n",
    "    t=all_index2[i]\n",
    "    new=a[t,:]\n",
    "    R2[i,:]=np.array(new)\n",
    "    const=1.0/(math.sqrt(r*probability_list_rows[t]))\n",
    "    new=np.array(new*const)\n",
    "    R[i,:]=new"
   ]
  },
  {
   "cell_type": "markdown",
   "metadata": {},
   "source": [
    "Finding the Matrix U from Matrix C and R."
   ]
  },
  {
   "cell_type": "code",
   "execution_count": 66,
   "metadata": {},
   "outputs": [],
   "source": [
    "#Firstly creating a matrix Y\n",
    "Y=np.zeros((r,s))\n",
    "for i in range(s):\n",
    "    t=all_index[i]\n",
    "    Y[:,i]=R2[:,t]"
   ]
  },
  {
   "cell_type": "code",
   "execution_count": 75,
   "metadata": {},
   "outputs": [],
   "source": [
    "#Finding the SVD of matrix Y\n",
    "from scipy.linalg import svd\n",
    "u,s1,vt=svd(Y)"
   ]
  },
  {
   "cell_type": "code",
   "execution_count": 79,
   "metadata": {},
   "outputs": [],
   "source": [
    "Sigma = np.zeros((r,s))\n",
    "Sigma[:s, :r]=np.diag(s1)\n",
    "Sigma_piv=np.linalg.pinv(Sigma)"
   ]
  },
  {
   "cell_type": "code",
   "execution_count": 88,
   "metadata": {},
   "outputs": [],
   "source": [
    "#Finally finding U\n",
    "Sigma_piv_sq=Sigma_piv**2\n",
    "U=np.matmul(vt.transpose(),Sigma_piv_sq)\n",
    "U=np.matmul(U,u.transpose())"
   ]
  },
  {
   "cell_type": "markdown",
   "metadata": {},
   "source": [
    "Finding the CUR Approximation."
   ]
  },
  {
   "cell_type": "code",
   "execution_count": 90,
   "metadata": {},
   "outputs": [],
   "source": [
    "a_new=np.matmul(C,U)\n",
    "a_new=np.matmul(a_new,R)"
   ]
  },
  {
   "cell_type": "markdown",
   "metadata": {},
   "source": [
    "Finding the Frobenius error."
   ]
  },
  {
   "cell_type": "code",
   "execution_count": 91,
   "metadata": {},
   "outputs": [
    {
     "name": "stdout",
     "output_type": "stream",
     "text": [
      "103372319630.50641\n"
     ]
    }
   ],
   "source": [
    "x=np.subtract(a,a_new)\n",
    "frobenius_error=np.sum(x**2)\n",
    "print(frobenius_error)"
   ]
  },
  {
   "cell_type": "code",
   "execution_count": null,
   "metadata": {},
   "outputs": [],
   "source": []
  }
 ],
 "metadata": {
  "kernelspec": {
   "display_name": "Python 3",
   "language": "python",
   "name": "python3"
  },
  "language_info": {
   "codemirror_mode": {
    "name": "ipython",
    "version": 3
   },
   "file_extension": ".py",
   "mimetype": "text/x-python",
   "name": "python",
   "nbconvert_exporter": "python",
   "pygments_lexer": "ipython3",
   "version": "3.7.3"
  }
 },
 "nbformat": 4,
 "nbformat_minor": 2
}
